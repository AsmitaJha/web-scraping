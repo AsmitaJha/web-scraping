{
  "nbformat": 4,
  "nbformat_minor": 0,
  "metadata": {
    "colab": {
      "provenance": []
    },
    "kernelspec": {
      "name": "python3",
      "display_name": "Python 3"
    },
    "language_info": {
      "name": "python"
    }
  },
  "cells": [
    {
      "cell_type": "code",
      "execution_count": null,
      "metadata": {
        "id": "5NrRT75LhoPJ"
      },
      "outputs": [],
      "source": [
        "import requests   #importing requests library for parsing data"
      ]
    },
    {
      "cell_type": "markdown",
      "source": [
        "Using Beautiful Soup to scrape data from https://pinchofyum.com/, a blogging website related to cooking\n"
      ],
      "metadata": {
        "id": "3y7iRhAVZi6u"
      }
    },
    {
      "cell_type": "code",
      "source": [
        "from bs4 import BeautifulSoup"
      ],
      "metadata": {
        "id": "iG9TBvb-jJ3L"
      },
      "execution_count": null,
      "outputs": []
    },
    {
      "cell_type": "code",
      "source": [
        "url='https://pinchofyum.com/'   #url of blog website"
      ],
      "metadata": {
        "id": "0Pv47jhwjiPB"
      },
      "execution_count": null,
      "outputs": []
    },
    {
      "cell_type": "code",
      "source": [
        "response=requests.get(url)  #fetching the website"
      ],
      "metadata": {
        "id": "ZcRebZH5jxBg"
      },
      "execution_count": null,
      "outputs": []
    },
    {
      "cell_type": "code",
      "source": [
        "#if the scraping is successful, applying Beautiful Soup to getch all the artciles and print them else returing the failure message\n",
        "if response.status_code==200:\n",
        "  soup=BeautifulSoup(response.content,'html.parser')\n",
        "  articles=soup.find_all('article')\n",
        "\n",
        "  print(\"Blog Articles:\")\n",
        "  for article in articles:\n",
        "    title=article.find('h2')\n",
        "    link=article.find(\"a\")[\"href\"] if article.find(\"a\") else \"No link found\"\n",
        "\n",
        "    if title:\n",
        "      print(f\"Title:{title.text.strip()}\")\n",
        "      print(f\"Link:{link}\")\n",
        "else:\n",
        "  print(f\"Failed to fetch the webpage. Status code:{response.status_code}\")"
      ],
      "metadata": {
        "colab": {
          "base_uri": "https://localhost:8080/"
        },
        "id": "OVidbCo2j0tE",
        "outputId": "92bd903e-b87b-4175-f7f3-13544d07e8dc"
      },
      "execution_count": null,
      "outputs": [
        {
          "output_type": "stream",
          "name": "stdout",
          "text": [
            "Blog Articles:\n",
            "Title:Lemon Rosemary Chicken Soup\n",
            "Link:https://pinchofyum.com/lemon-rosemary-chicken-soup\n",
            "Title:Brussels Sprouts with Gochujang Butter\n",
            "Link:https://pinchofyum.com/brussels-sprouts-with-gochujang-butter\n",
            "Title:Incredible Arancini\n",
            "Link:https://pinchofyum.com/incredible-arancini\n"
          ]
        }
      ]
    },
    {
      "cell_type": "code",
      "source": [],
      "metadata": {
        "id": "RxC-l5TPj_1g"
      },
      "execution_count": null,
      "outputs": []
    }
  ]
}